{
 "cells": [
  {
   "cell_type": "code",
   "execution_count": 175,
   "metadata": {},
   "outputs": [],
   "source": [
    "import subprocess\n",
    "import xml.etree.ElementTree as ET"
   ]
  },
  {
   "cell_type": "code",
   "execution_count": 176,
   "metadata": {},
   "outputs": [],
   "source": [
    "# Read Java file and srcML it to XML\n",
    "input_file = 'Input.java'\n",
    "with open('Input.xml', 'w+') as f:\n",
    "    subprocess.run(['srcml', input_file], stdout=f)"
   ]
  },
  {
   "cell_type": "code",
   "execution_count": 177,
   "metadata": {},
   "outputs": [],
   "source": [
    "# Parse XML and define namespace\n",
    "tree = ET.parse('Input.xml')\n",
    "root = tree.getroot()\n",
    "ns = {'src': 'http://www.srcML.org/srcML/src'}"
   ]
  },
  {
   "cell_type": "code",
   "execution_count": 178,
   "metadata": {},
   "outputs": [],
   "source": [
    "# Return an Element of println statement\n",
    "def println_elem(x, tail='\\n'):\n",
    "    expr_stmt = ET.Element('expr_stmt')\n",
    "    expr_stmt.tail = tail\n",
    "    expr = ET.SubElement(expr_stmt, 'expr')\n",
    "    expr.tail = ';'\n",
    "    call = ET.SubElement(expr, 'call')\n",
    "    \n",
    "    name = ET.SubElement(call, 'name')\n",
    "    name1 = ET.SubElement(name, 'name')\n",
    "    name1.text = 'System'\n",
    "    operator1 = ET.SubElement(name, 'operator')\n",
    "    operator1.text = '.'\n",
    "    name2 = ET.SubElement(name, 'name')\n",
    "    name2.text = 'out'\n",
    "    operator2 = ET.SubElement(name, 'operator')\n",
    "    operator2.text = '.'\n",
    "    name3 = ET.SubElement(name, 'name')\n",
    "    name3.text = 'println'\n",
    "    \n",
    "    argument_list = ET.SubElement(call, 'argument_list')\n",
    "    argument_list.text = '('\n",
    "    argument = ET.SubElement(argument_list, 'argument')\n",
    "    argument.tail = ')'\n",
    "    \n",
    "    expr1 = ET.SubElement(argument, 'expr')\n",
    "    literal = ET.SubElement(expr1, 'literal', type=\"string\")\n",
    "    literal.text = ''.join(['\\\"', x, ' = \\\"'])\n",
    "    operator3 = ET.SubElement(expr1, 'operator')\n",
    "    operator3.text = ' + '\n",
    "    name4 = ET.SubElement(expr1, 'name')\n",
    "    name4.text = x\n",
    "    \n",
    "    return expr_stmt # System.out.println(“x = ” + x);"
   ]
  },
  {
   "cell_type": "markdown",
   "metadata": {},
   "source": [
    "# Case 1: Declaration with initialisation\n",
    "* int a = 0, b, c = 1;"
   ]
  },
  {
   "cell_type": "code",
   "execution_count": 179,
   "metadata": {},
   "outputs": [],
   "source": [
    "for elem in root.iter():   \n",
    "    for decl_stmt in elem.findall('src:decl_stmt', ns):\n",
    "        offset = 1\n",
    "        \n",
    "        var_list = []\n",
    "        decls = decl_stmt.findall('src:decl', ns)\n",
    "        \n",
    "        for decl in decls:\n",
    "            if decl.find('src:init', ns):\n",
    "                var_list.append(decl.find('src:name', ns).text)\n",
    "        \n",
    "        for var in var_list:\n",
    "            elem.insert(offset + list(elem).index(decl_stmt), println_elem(var, tail=decl_stmt.tail))\n",
    "            offset += 1"
   ]
  },
  {
   "cell_type": "markdown",
   "metadata": {},
   "source": [
    "# Case 2: Expression with assignments\n",
    "\n",
    "Below are statements that contain expressions (expr), where there are potential assignments, according to srcML's Java Documentation [1].\n",
    "\n",
    "* expr_stmt (expr_stmt)\n",
    "\n",
    "* assert statement (assert)\n",
    "\n",
    "* case statement (case)\n",
    "\n",
    "* return statement (return)\n",
    "\n",
    "In these statements, there are two possible cases of assignment:\n",
    "\n",
    "* Subcase 1: left value of operators '=', '+=', '-=', '++', or '--' (e.g. d = e = 2; f += 3;)\n",
    "\n",
    "* Subcase 2: right value of operators '++' or '--' (e.g. --g;)\n",
    "\n",
    "## References\n",
    "\n",
    "[1] srcML v1.0.0 Java Documentation. https://www.srcml.org/doc/java_srcML.html. (Accessed July 2020)"
   ]
  },
  {
   "cell_type": "code",
   "execution_count": 180,
   "metadata": {},
   "outputs": [],
   "source": [
    "for elem in root.iter():\n",
    "    for exprs in elem.findall('src:expr_stmt', ns) + elem.findall('src:assert', ns) \\\n",
    "        + elem.findall('src:case', ns) + elem.findall('src:return', ns):\n",
    "        offset = 1\n",
    "        \n",
    "        var_list = []\n",
    "        expr = exprs.find('src:expr', ns)\n",
    "        \n",
    "        expr_list = list(expr)\n",
    "        names = [expr_list.index(name) for name in expr.findall('src:name', ns)]\n",
    "        operators = [expr_list.index(operator) for operator in expr.findall('src:operator', ns)]\n",
    "            \n",
    "        for i in range(len(expr_list)):\n",
    "            # Subcase 1 and 2\n",
    "            if i in names and i + 1 in operators \\\n",
    "                and expr_list[i + 1].text in ['=', '+=', '-=', '++', '--'] \\\n",
    "                or i in names and i - 1 in operators \\\n",
    "                and expr_list[i - 1].text in ['++', '--']:\n",
    "                var_list.append(expr_list[i].text)\n",
    "        \n",
    "        for var in var_list:\n",
    "            elem.insert(offset + list(elem).index(exprs), println_elem(var, tail=exprs.tail))\n",
    "            offset += 1"
   ]
  },
  {
   "cell_type": "code",
   "execution_count": 181,
   "metadata": {},
   "outputs": [],
   "source": [
    "# Write back to XML file and convert back to Java\n",
    "tree.write('Output.xml')\n",
    "with open('Output.java', 'w+') as f:\n",
    "    subprocess.run(['srcml', 'Output.xml'], stdout=f)"
   ]
  },
  {
   "cell_type": "markdown",
   "metadata": {},
   "source": [
    "# Other possible cases\n",
    "\n",
    "## Case 3: Loop condition initialisation\n",
    "\n",
    "* while(--g) {...}\n",
    "* for(int i = 0; i < 10; ++i) {...}\n",
    "\n",
    "## Case 4: ..."
   ]
  },
  {
   "cell_type": "code",
   "execution_count": null,
   "metadata": {},
   "outputs": [],
   "source": [
    "# Appendix: Original implementation of case 2\n",
    "# \n",
    "# for elem in root.iter():\n",
    "#     for expr_stmt in elem.findall('src:expr_stmt', ns):\n",
    "#         offset = 1\n",
    "        \n",
    "#         var_list = []\n",
    "#         expr = expr_stmt.find('src:expr', ns)\n",
    "        \n",
    "#         expr_list = list(expr)\n",
    "#         names = [expr_list.index(name) for name in expr.findall('src:name', ns)]\n",
    "#         operators = [expr_list.index(operator) for operator in expr.findall('src:operator', ns)]\n",
    "            \n",
    "#         for i in range(len(expr_list)):\n",
    "#             # Subcase 1 and 2\n",
    "#             if i in names and i + 1 in operators \\\n",
    "#                 and expr_list[i + 1].text in ['=', '+=', '-=', '++', '--'] \\\n",
    "#                 or i in names and i - 1 in operators \\\n",
    "#                 and expr_list[i - 1].text in ['++', '--']:\n",
    "#                 var_list.append(expr_list[i].text)\n",
    "        \n",
    "#         for var in var_list:\n",
    "#             elem.insert(offset + list(elem).index(expr_stmt), println_elem(var, tail=expr_stmt.tail))\n",
    "#             offset += 1"
   ]
  }
 ],
 "metadata": {
  "kernelspec": {
   "display_name": "Python 3",
   "language": "python",
   "name": "python3"
  },
  "language_info": {
   "codemirror_mode": {
    "name": "ipython",
    "version": 3
   },
   "file_extension": ".py",
   "mimetype": "text/x-python",
   "name": "python",
   "nbconvert_exporter": "python",
   "pygments_lexer": "ipython3",
   "version": "3.7.6"
  }
 },
 "nbformat": 4,
 "nbformat_minor": 4
}
